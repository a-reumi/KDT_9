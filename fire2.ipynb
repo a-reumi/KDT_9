{
 "cells": [
  {
   "cell_type": "markdown",
   "metadata": {},
   "source": [
    "## **[불과 나머지]**<hr>"
   ]
  },
  {
   "cell_type": "markdown",
   "metadata": {},
   "source": [
    "### [1] 모듈 로딩 <hr>"
   ]
  },
  {
   "cell_type": "code",
   "execution_count": 11,
   "metadata": {},
   "outputs": [],
   "source": [
    "from torchvision import transforms\n",
    "from torchvision.datasets import ImageFolder\n",
    "from torch.utils.data import DataLoader\n",
    "import torch.nn as nn\n",
    "import torch\n",
    "import torch.optim as optim"
   ]
  },
  {
   "cell_type": "markdown",
   "metadata": {},
   "source": [
    "### [2] [데이터 불러오기] <hr>"
   ]
  },
  {
   "cell_type": "code",
   "execution_count": 12,
   "metadata": {},
   "outputs": [],
   "source": [
    "# 데이터셋 경로\n",
    "train_dir = './train_data/' "
   ]
  },
  {
   "cell_type": "markdown",
   "metadata": {},
   "source": [
    "### [3] 데이터 전처리 & 증강 <hr>"
   ]
  },
  {
   "cell_type": "code",
   "execution_count": 13,
   "metadata": {},
   "outputs": [],
   "source": [
    "\n",
    "# 학습 데이터에 적용할 transform\n",
    "train_transform = transforms.Compose([\n",
    "    transforms.Resize((128, 128)),  # 크기 통일\n",
    "    transforms.RandomHorizontalFlip(),  # 50% 확률로 좌우 반전\n",
    "    transforms.RandomRotation(10),     # 최대 10도 회전\n",
    "    transforms.ToTensor(),             # Tensor 변환\n",
    "    transforms.Normalize((0.5, 0.5, 0.5), (0.5, 0.5, 0.5))  # RGB 정규화\n",
    "])\n",
    "\n",
    "# 검증/테스트 데이터는 데이터 증강 없이\n",
    "test_transform = transforms.Compose([\n",
    "    transforms.Resize((128, 128)),\n",
    "    transforms.ToTensor(),\n",
    "    transforms.Normalize((0.5, 0.5, 0.5), (0.5, 0.5, 0.5))\n",
    "])\n"
   ]
  },
  {
   "cell_type": "markdown",
   "metadata": {},
   "source": [
    "### [4]  데이터 로더 만들기 <hr>"
   ]
  },
  {
   "cell_type": "code",
   "execution_count": 14,
   "metadata": {},
   "outputs": [
    {
     "name": "stdout",
     "output_type": "stream",
     "text": [
      "클래스 : ['fire', 'others']\n",
      "클래스 라벨 : {'fire': 0, 'others': 1}\n",
      "데이터 개수 : 485\n"
     ]
    }
   ],
   "source": [
    "# Dataset 생성\n",
    "train_dataset = ImageFolder(root=train_dir, transform=train_transform)\n",
    "valid_dataset = ImageFolder(root=train_dir, transform=test_transform)  # 여기서는 동일하게 사용, 실제로는 따로 구분 추천\n",
    "\n",
    "# DataLoader 생성\n",
    "train_loader = DataLoader(train_dataset, batch_size=32, shuffle=True)\n",
    "valid_loader = DataLoader(valid_dataset, batch_size=32, shuffle=False)\n",
    "\n",
    "# 데이터셋 클래스 확인\n",
    "print(f'클래스 : {train_dataset.classes}')\n",
    "print(f'클래스 라벨 : {train_dataset.class_to_idx}')\n",
    "print(f'데이터 개수 : {len(train_dataset)}')\n"
   ]
  },
  {
   "cell_type": "markdown",
   "metadata": {},
   "source": [
    "### [5] CNN 모델 설계 <hr>"
   ]
  },
  {
   "cell_type": "code",
   "execution_count": 15,
   "metadata": {},
   "outputs": [],
   "source": [
    "\n",
    "class FireClassifier(nn.Module):\n",
    "    def __init__(self):\n",
    "        super(FireClassifier, self).__init__()\n",
    "        # 특징 추출부 (Convolutional Layers)\n",
    "        self.conv = nn.Sequential(\n",
    "            nn.Conv2d(3, 16, 3, padding=1),  # 입력채널 3(RGB), 출력채널 16, 커널 3x3\n",
    "            nn.ReLU(),\n",
    "            nn.MaxPool2d(2, 2),              # 크기 절반으로 줄이기\n",
    "            nn.Conv2d(16, 32, 3, padding=1),\n",
    "            nn.ReLU(),\n",
    "            nn.MaxPool2d(2, 2)\n",
    "        )\n",
    "        # 분류기 (Fully Connected Layers)\n",
    "        self.fc = nn.Sequential(\n",
    "            nn.Flatten(),\n",
    "            nn.Linear(32 * 32 * 32, 128),    # 이미지 크기 128 → 64 → 32 (풀링 2번)\n",
    "            nn.ReLU(),\n",
    "            nn.Linear(128, 1),\n",
    "            nn.Sigmoid()                    # Binary Classification\n",
    "        )\n",
    "\n",
    "    def forward(self, x):\n",
    "        x = self.conv(x)\n",
    "        x = self.fc(x)\n",
    "        return x\n"
   ]
  },
  {
   "cell_type": "markdown",
   "metadata": {},
   "source": [
    "### [6] 학습 준비"
   ]
  },
  {
   "cell_type": "code",
   "execution_count": 16,
   "metadata": {},
   "outputs": [
    {
     "name": "stdout",
     "output_type": "stream",
     "text": [
      "Using cpu device\n"
     ]
    }
   ],
   "source": [
    "\n",
    "# 디바이스 설정 (GPU 사용 가능하면 사용)\n",
    "device = torch.device(\"cuda\" if torch.cuda.is_available() else \"cpu\")\n",
    "print(f\"Using {device} device\")\n",
    "\n",
    "# 모델 인스턴스 생성 및 디바이스 이동\n",
    "model = FireClassifier().to(device)\n",
    "\n",
    "# 손실 함수 (Binary Cross Entropy Loss)\n",
    "criterion = nn.BCELoss()\n",
    "\n",
    "# 최적화 기법 (Adam)\n",
    "optimizer = optim.Adam(model.parameters(), lr=0.001)\n",
    "\n",
    "# 학습 관련 설정\n",
    "EPOCHS = 10\n",
    "BATCH_SIZE = 32  # 이전에 DataLoader에서 설정한 것과 동일\n"
   ]
  },
  {
   "cell_type": "markdown",
   "metadata": {},
   "source": [
    "### [7]  학습 루프 구현 <hr>"
   ]
  },
  {
   "cell_type": "code",
   "execution_count": 17,
   "metadata": {},
   "outputs": [
    {
     "name": "stdout",
     "output_type": "stream",
     "text": [
      "Epoch [1/10] Train Loss: 0.4239, Train Acc: 0.7959 | Val Loss: 0.2808, Val Acc: 0.8866\n",
      "Epoch [2/10] Train Loss: 0.2641, Train Acc: 0.8722 | Val Loss: 0.2237, Val Acc: 0.9052\n",
      "Epoch [3/10] Train Loss: 0.1948, Train Acc: 0.9237 | Val Loss: 0.1550, Val Acc: 0.9608\n",
      "Epoch [4/10] Train Loss: 0.1282, Train Acc: 0.9608 | Val Loss: 0.1193, Val Acc: 0.9608\n",
      "Epoch [5/10] Train Loss: 0.1197, Train Acc: 0.9588 | Val Loss: 0.0983, Val Acc: 0.9773\n",
      "Epoch [6/10] Train Loss: 0.0864, Train Acc: 0.9753 | Val Loss: 0.0669, Val Acc: 0.9835\n",
      "Epoch [7/10] Train Loss: 0.0591, Train Acc: 0.9794 | Val Loss: 0.0611, Val Acc: 0.9835\n",
      "Epoch [8/10] Train Loss: 0.0846, Train Acc: 0.9753 | Val Loss: 0.0712, Val Acc: 0.9835\n",
      "Epoch [9/10] Train Loss: 0.1012, Train Acc: 0.9773 | Val Loss: 0.0417, Val Acc: 0.9897\n",
      "Epoch [10/10] Train Loss: 0.1335, Train Acc: 0.9361 | Val Loss: 0.0854, Val Acc: 0.9588\n"
     ]
    }
   ],
   "source": [
    "for epoch in range(EPOCHS):\n",
    "    model.train()  # 학습 모드\n",
    "    running_loss = 0.0\n",
    "    correct = 0\n",
    "    total = 0\n",
    "\n",
    "    # ---------- 학습 (Training) ----------\n",
    "    for images, labels in train_loader:\n",
    "        images, labels = images.to(device), labels.to(device)\n",
    "        labels = labels.float().unsqueeze(1)  # [batch_size, 1] 형태로 변환\n",
    "\n",
    "        # 1. 기울기 초기화\n",
    "        optimizer.zero_grad()\n",
    "\n",
    "        # 2. Forward\n",
    "        outputs = model(images)\n",
    "\n",
    "        # 3. Loss 계산\n",
    "        loss = criterion(outputs, labels)\n",
    "\n",
    "        # 4. Backward (역전파)\n",
    "        loss.backward()\n",
    "\n",
    "        # 5. 가중치 업데이트\n",
    "        optimizer.step()\n",
    "\n",
    "        # 통계 기록\n",
    "        running_loss += loss.item()\n",
    "        predicted = (outputs >= 0.5).float()  # 0.5 기준으로 이진 분류\n",
    "        correct += (predicted == labels).sum().item()\n",
    "        total += labels.size(0)\n",
    "\n",
    "    train_acc = correct / total\n",
    "    train_loss = running_loss / len(train_loader)\n",
    "\n",
    "    # ---------- 검증 (Validation) ----------\n",
    "    model.eval()\n",
    "    val_loss = 0.0\n",
    "    val_correct = 0\n",
    "    val_total = 0\n",
    "\n",
    "    with torch.no_grad():\n",
    "        for images, labels in valid_loader:\n",
    "            images, labels = images.to(device), labels.to(device)\n",
    "            labels = labels.float().unsqueeze(1)\n",
    "\n",
    "            outputs = model(images)\n",
    "            loss = criterion(outputs, labels)\n",
    "            val_loss += loss.item()\n",
    "\n",
    "            predicted = (outputs >= 0.5).float()\n",
    "            val_correct += (predicted == labels).sum().item()\n",
    "            val_total += labels.size(0)\n",
    "\n",
    "    val_acc = val_correct / val_total\n",
    "    val_loss /= len(valid_loader)\n",
    "\n",
    "    print(f'Epoch [{epoch+1}/{EPOCHS}] '\n",
    "          f'Train Loss: {train_loss:.4f}, Train Acc: {train_acc:.4f} '\n",
    "          f'| Val Loss: {val_loss:.4f}, Val Acc: {val_acc:.4f}')\n"
   ]
  },
  {
   "cell_type": "markdown",
   "metadata": {},
   "source": [
    "### [8] 테스트 데이터 평가 + 모델 저장 <hr>"
   ]
  },
  {
   "cell_type": "code",
   "execution_count": 18,
   "metadata": {},
   "outputs": [
    {
     "name": "stdout",
     "output_type": "stream",
     "text": [
      "테스트 데이터 정확도 : 0.9588\n",
      "모델이 저장되었습니다.\n"
     ]
    }
   ],
   "source": [
    "# ---------------------- 테스트 데이터 평가 ----------------------\n",
    "model.eval()  # 평가 모드\n",
    "test_correct = 0\n",
    "test_total = 0\n",
    "\n",
    "with torch.no_grad():\n",
    "    for images, labels in valid_loader:  # 여기선 valid_loader를 사용했지만, 실제로는 test_loader 따로 준비 권장\n",
    "        images, labels = images.to(device), labels.to(device)\n",
    "        labels = labels.float().unsqueeze(1)\n",
    "\n",
    "        outputs = model(images)\n",
    "        predicted = (outputs >= 0.5).float()\n",
    "        test_correct += (predicted == labels).sum().item()\n",
    "        test_total += labels.size(0)\n",
    "\n",
    "test_acc = test_correct / test_total\n",
    "print(f\"테스트 데이터 정확도 : {test_acc:.4f}\")\n",
    "\n",
    "# ---------------------- 모델 저장 ----------------------\n",
    "torch.save(model.state_dict(), \"fire_classifier_model.pt\")\n",
    "print(\"모델이 저장되었습니다.\")\n"
   ]
  },
  {
   "cell_type": "code",
   "execution_count": 19,
   "metadata": {},
   "outputs": [],
   "source": [
    "torch.save(model.state_dict(), '../딥러닝/deeproject/model/fire_classifier_model.pt')"
   ]
  },
  {
   "cell_type": "code",
   "execution_count": 20,
   "metadata": {},
   "outputs": [],
   "source": [
    "import os\n",
    "os.makedirs('./model', exist_ok=True)"
   ]
  },
  {
   "cell_type": "code",
   "execution_count": 21,
   "metadata": {},
   "outputs": [],
   "source": [
    "torch.save(model.state_dict(), '../딥러닝/deeproject/model/fire_classifier_model.pt')"
   ]
  },
  {
   "cell_type": "code",
   "execution_count": 22,
   "metadata": {},
   "outputs": [],
   "source": [
    "# 모델 정의\n",
    "model = nn.Sequential(\n",
    "    nn.Conv2d(3, 16, 3, padding=1),\n",
    "    nn.ReLU(),\n",
    "    nn.MaxPool2d(2, 2),\n",
    "    nn.Conv2d(16, 32, 3, padding=1),\n",
    "    nn.ReLU(),\n",
    "    nn.MaxPool2d(2, 2),\n",
    "    nn.Flatten(),\n",
    "    nn.Linear(32 * 37 * 37, 64),\n",
    "    nn.ReLU(),\n",
    "    nn.Dropout(0.5),\n",
    "    nn.Linear(64, 2)\n",
    ")\n",
    "\n",
    "# 저장\n",
    "import os\n",
    "os.makedirs('./model', exist_ok=True)\n",
    "torch.save(model.state_dict(), './model/fire_classifier_model.pt')\n"
   ]
  }
 ],
 "metadata": {
  "kernelspec": {
   "display_name": "DL_TORCH",
   "language": "python",
   "name": "python3"
  },
  "language_info": {
   "codemirror_mode": {
    "name": "ipython",
    "version": 3
   },
   "file_extension": ".py",
   "mimetype": "text/x-python",
   "name": "python",
   "nbconvert_exporter": "python",
   "pygments_lexer": "ipython3",
   "version": "3.9.21"
  }
 },
 "nbformat": 4,
 "nbformat_minor": 2
}
